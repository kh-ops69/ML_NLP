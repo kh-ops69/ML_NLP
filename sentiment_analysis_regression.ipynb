{
  "nbformat": 4,
  "nbformat_minor": 0,
  "metadata": {
    "colab": {
      "provenance": [],
      "authorship_tag": "ABX9TyOq9hvfKiNToKRhVfcnnFaa",
      "include_colab_link": true
    },
    "kernelspec": {
      "name": "python3",
      "display_name": "Python 3"
    },
    "language_info": {
      "name": "python"
    }
  },
  "cells": [
    {
      "cell_type": "markdown",
      "metadata": {
        "id": "view-in-github",
        "colab_type": "text"
      },
      "source": [
        "<a href=\"https://colab.research.google.com/github/kh-ops69/ML_NLP/blob/master/sentiment_analysis_regression.ipynb\" target=\"_parent\"><img src=\"https://colab.research.google.com/assets/colab-badge.svg\" alt=\"Open In Colab\"/></a>"
      ]
    },
    {
      "cell_type": "code",
      "execution_count": null,
      "metadata": {
        "id": "pZ_RxVNuRJk1"
      },
      "outputs": [],
      "source": [
        "import pandas as pd\n",
        "import numpy as np\n",
        "import re\n",
        "import seaborn as sns\n",
        "from sklearn.feature_extraction.text import TfidfVectorizer\n",
        "from sklearn.metrics import roc_auc_score, f1_score, confusion_matrix\n",
        "from sklearn.linear_model import LogisticRegression\n",
        "from sklearn.model_selection import train_test_split\n",
        "import matplotlib.pyplot as plt"
      ]
    },
    {
      "cell_type": "code",
      "source": [
        "train_set = pd.read_csv(\"train.csv\", encoding=\"ISO-8859-1\")"
      ],
      "metadata": {
        "id": "1POvTYZwSE3g"
      },
      "execution_count": null,
      "outputs": []
    },
    {
      "cell_type": "code",
      "source": [
        "train_set.sample(5)"
      ],
      "metadata": {
        "colab": {
          "base_uri": "https://localhost:8080/",
          "height": 384
        },
        "id": "jbACn-nLTaDy",
        "outputId": "56cb0bb3-6b6c-4713-bd78-3127dba70e68"
      },
      "execution_count": null,
      "outputs": [
        {
          "output_type": "execute_result",
          "data": {
            "text/plain": [
              "           textID                                               text  \\\n",
              "6066   e7702ae8f2                                        awesomeness   \n",
              "21481  dbf367564f  up way too early for a sunday.. watching old e...   \n",
              "14246  ebda3686bc  i like this Dr. Seuss quote - Ã¯Â¿Â½You know y...   \n",
              "26398  780e59bcd7   wow, atleast u only have three weeks...I have...   \n",
              "27420  24fa941c24                    I would but you`re too far away   \n",
              "\n",
              "                                           selected_text sentiment  \\\n",
              "6066                                         awesomeness  positive   \n",
              "21481  up way too early for a sunday.. watching old e...   neutral   \n",
              "14246  i like this Dr. Seuss quote - Ã¯Â¿Â½You know y...  positive   \n",
              "26398                                               wow,  positive   \n",
              "27420                                       too far away  negative   \n",
              "\n",
              "      Time of Tweet Age of User  Country  Population -2020  Land Area (Km²)  \\\n",
              "6066        morning        0-20   Malawi          19129952          94280.0   \n",
              "21481          noon       21-30  Somalia          15893222         627340.0   \n",
              "14246         night       31-45  Morocco          36910560         446300.0   \n",
              "26398          noon       60-70    Kenya          53771296         569140.0   \n",
              "27420       morning        0-20  Austria           9006398          82400.0   \n",
              "\n",
              "       Density (P/Km²)  \n",
              "6066               203  \n",
              "21481               25  \n",
              "14246               83  \n",
              "26398               94  \n",
              "27420              109  "
            ],
            "text/html": [
              "\n",
              "  <div id=\"df-16bae9f2-a0d4-42f1-ba1f-962911283c21\">\n",
              "    <div class=\"colab-df-container\">\n",
              "      <div>\n",
              "<style scoped>\n",
              "    .dataframe tbody tr th:only-of-type {\n",
              "        vertical-align: middle;\n",
              "    }\n",
              "\n",
              "    .dataframe tbody tr th {\n",
              "        vertical-align: top;\n",
              "    }\n",
              "\n",
              "    .dataframe thead th {\n",
              "        text-align: right;\n",
              "    }\n",
              "</style>\n",
              "<table border=\"1\" class=\"dataframe\">\n",
              "  <thead>\n",
              "    <tr style=\"text-align: right;\">\n",
              "      <th></th>\n",
              "      <th>textID</th>\n",
              "      <th>text</th>\n",
              "      <th>selected_text</th>\n",
              "      <th>sentiment</th>\n",
              "      <th>Time of Tweet</th>\n",
              "      <th>Age of User</th>\n",
              "      <th>Country</th>\n",
              "      <th>Population -2020</th>\n",
              "      <th>Land Area (Km²)</th>\n",
              "      <th>Density (P/Km²)</th>\n",
              "    </tr>\n",
              "  </thead>\n",
              "  <tbody>\n",
              "    <tr>\n",
              "      <th>6066</th>\n",
              "      <td>e7702ae8f2</td>\n",
              "      <td>awesomeness</td>\n",
              "      <td>awesomeness</td>\n",
              "      <td>positive</td>\n",
              "      <td>morning</td>\n",
              "      <td>0-20</td>\n",
              "      <td>Malawi</td>\n",
              "      <td>19129952</td>\n",
              "      <td>94280.0</td>\n",
              "      <td>203</td>\n",
              "    </tr>\n",
              "    <tr>\n",
              "      <th>21481</th>\n",
              "      <td>dbf367564f</td>\n",
              "      <td>up way too early for a sunday.. watching old e...</td>\n",
              "      <td>up way too early for a sunday.. watching old e...</td>\n",
              "      <td>neutral</td>\n",
              "      <td>noon</td>\n",
              "      <td>21-30</td>\n",
              "      <td>Somalia</td>\n",
              "      <td>15893222</td>\n",
              "      <td>627340.0</td>\n",
              "      <td>25</td>\n",
              "    </tr>\n",
              "    <tr>\n",
              "      <th>14246</th>\n",
              "      <td>ebda3686bc</td>\n",
              "      <td>i like this Dr. Seuss quote - Ã¯Â¿Â½You know y...</td>\n",
              "      <td>i like this Dr. Seuss quote - Ã¯Â¿Â½You know y...</td>\n",
              "      <td>positive</td>\n",
              "      <td>night</td>\n",
              "      <td>31-45</td>\n",
              "      <td>Morocco</td>\n",
              "      <td>36910560</td>\n",
              "      <td>446300.0</td>\n",
              "      <td>83</td>\n",
              "    </tr>\n",
              "    <tr>\n",
              "      <th>26398</th>\n",
              "      <td>780e59bcd7</td>\n",
              "      <td>wow, atleast u only have three weeks...I have...</td>\n",
              "      <td>wow,</td>\n",
              "      <td>positive</td>\n",
              "      <td>noon</td>\n",
              "      <td>60-70</td>\n",
              "      <td>Kenya</td>\n",
              "      <td>53771296</td>\n",
              "      <td>569140.0</td>\n",
              "      <td>94</td>\n",
              "    </tr>\n",
              "    <tr>\n",
              "      <th>27420</th>\n",
              "      <td>24fa941c24</td>\n",
              "      <td>I would but you`re too far away</td>\n",
              "      <td>too far away</td>\n",
              "      <td>negative</td>\n",
              "      <td>morning</td>\n",
              "      <td>0-20</td>\n",
              "      <td>Austria</td>\n",
              "      <td>9006398</td>\n",
              "      <td>82400.0</td>\n",
              "      <td>109</td>\n",
              "    </tr>\n",
              "  </tbody>\n",
              "</table>\n",
              "</div>\n",
              "      <button class=\"colab-df-convert\" onclick=\"convertToInteractive('df-16bae9f2-a0d4-42f1-ba1f-962911283c21')\"\n",
              "              title=\"Convert this dataframe to an interactive table.\"\n",
              "              style=\"display:none;\">\n",
              "        \n",
              "  <svg xmlns=\"http://www.w3.org/2000/svg\" height=\"24px\"viewBox=\"0 0 24 24\"\n",
              "       width=\"24px\">\n",
              "    <path d=\"M0 0h24v24H0V0z\" fill=\"none\"/>\n",
              "    <path d=\"M18.56 5.44l.94 2.06.94-2.06 2.06-.94-2.06-.94-.94-2.06-.94 2.06-2.06.94zm-11 1L8.5 8.5l.94-2.06 2.06-.94-2.06-.94L8.5 2.5l-.94 2.06-2.06.94zm10 10l.94 2.06.94-2.06 2.06-.94-2.06-.94-.94-2.06-.94 2.06-2.06.94z\"/><path d=\"M17.41 7.96l-1.37-1.37c-.4-.4-.92-.59-1.43-.59-.52 0-1.04.2-1.43.59L10.3 9.45l-7.72 7.72c-.78.78-.78 2.05 0 2.83L4 21.41c.39.39.9.59 1.41.59.51 0 1.02-.2 1.41-.59l7.78-7.78 2.81-2.81c.8-.78.8-2.07 0-2.86zM5.41 20L4 18.59l7.72-7.72 1.47 1.35L5.41 20z\"/>\n",
              "  </svg>\n",
              "      </button>\n",
              "      \n",
              "  <style>\n",
              "    .colab-df-container {\n",
              "      display:flex;\n",
              "      flex-wrap:wrap;\n",
              "      gap: 12px;\n",
              "    }\n",
              "\n",
              "    .colab-df-convert {\n",
              "      background-color: #E8F0FE;\n",
              "      border: none;\n",
              "      border-radius: 50%;\n",
              "      cursor: pointer;\n",
              "      display: none;\n",
              "      fill: #1967D2;\n",
              "      height: 32px;\n",
              "      padding: 0 0 0 0;\n",
              "      width: 32px;\n",
              "    }\n",
              "\n",
              "    .colab-df-convert:hover {\n",
              "      background-color: #E2EBFA;\n",
              "      box-shadow: 0px 1px 2px rgba(60, 64, 67, 0.3), 0px 1px 3px 1px rgba(60, 64, 67, 0.15);\n",
              "      fill: #174EA6;\n",
              "    }\n",
              "\n",
              "    [theme=dark] .colab-df-convert {\n",
              "      background-color: #3B4455;\n",
              "      fill: #D2E3FC;\n",
              "    }\n",
              "\n",
              "    [theme=dark] .colab-df-convert:hover {\n",
              "      background-color: #434B5C;\n",
              "      box-shadow: 0px 1px 3px 1px rgba(0, 0, 0, 0.15);\n",
              "      filter: drop-shadow(0px 1px 2px rgba(0, 0, 0, 0.3));\n",
              "      fill: #FFFFFF;\n",
              "    }\n",
              "  </style>\n",
              "\n",
              "      <script>\n",
              "        const buttonEl =\n",
              "          document.querySelector('#df-16bae9f2-a0d4-42f1-ba1f-962911283c21 button.colab-df-convert');\n",
              "        buttonEl.style.display =\n",
              "          google.colab.kernel.accessAllowed ? 'block' : 'none';\n",
              "\n",
              "        async function convertToInteractive(key) {\n",
              "          const element = document.querySelector('#df-16bae9f2-a0d4-42f1-ba1f-962911283c21');\n",
              "          const dataTable =\n",
              "            await google.colab.kernel.invokeFunction('convertToInteractive',\n",
              "                                                     [key], {});\n",
              "          if (!dataTable) return;\n",
              "\n",
              "          const docLinkHtml = 'Like what you see? Visit the ' +\n",
              "            '<a target=\"_blank\" href=https://colab.research.google.com/notebooks/data_table.ipynb>data table notebook</a>'\n",
              "            + ' to learn more about interactive tables.';\n",
              "          element.innerHTML = '';\n",
              "          dataTable['output_type'] = 'display_data';\n",
              "          await google.colab.output.renderOutput(dataTable, element);\n",
              "          const docLink = document.createElement('div');\n",
              "          docLink.innerHTML = docLinkHtml;\n",
              "          element.appendChild(docLink);\n",
              "        }\n",
              "      </script>\n",
              "    </div>\n",
              "  </div>\n",
              "  "
            ]
          },
          "metadata": {},
          "execution_count": 3
        }
      ]
    },
    {
      "cell_type": "code",
      "source": [
        "target_map = {'positive':1, 'negative':-1, 'neutral':0}\n",
        "train_set['sentiment_val']= train_set.sentiment.map(target_map)"
      ],
      "metadata": {
        "id": "9jYGINGwmOYh"
      },
      "execution_count": null,
      "outputs": []
    },
    {
      "cell_type": "code",
      "source": [
        "train_set.sample(5)"
      ],
      "metadata": {
        "colab": {
          "base_uri": "https://localhost:8080/",
          "height": 520
        },
        "id": "MVlvf83nmimh",
        "outputId": "dde18ebc-6dbe-4b55-ecdf-e6a86e51a008"
      },
      "execution_count": null,
      "outputs": [
        {
          "output_type": "execute_result",
          "data": {
            "text/plain": [
              "           textID                                               text  \\\n",
              "19512  4aef4d5752    sweet! make sure to put some in your bag for me   \n",
              "17672  ca4b7d62c0                        anytime!.. literally hahaha   \n",
              "26385  9f03acc2ae                                    history project   \n",
              "22147  53729a85b5                      so make the most of it  enjoy   \n",
              "9728   f0dd6aa1cd   lost luggage? Sorry to hear.  you should chec...   \n",
              "\n",
              "                     selected_text sentiment Time of Tweet Age of User  \\\n",
              "19512                       sweet!  positive       morning        0-20   \n",
              "17672  anytime!.. literally hahaha   neutral         night       31-45   \n",
              "26385              history project   neutral       morning       46-60   \n",
              "22147                        enjoy  positive          noon       21-30   \n",
              "9728                         Sorry  negative         night       31-45   \n",
              "\n",
              "                        Country  Population -2020  Land Area (Km²)  \\\n",
              "19512                     Haiti          11402528          27560.0   \n",
              "17672  Czechia (Czech Republic)          10708981          77240.0   \n",
              "26385                   Hungary           9660351          90530.0   \n",
              "22147                Montenegro            628066          13450.0   \n",
              "9728                     Guyana            786552         196850.0   \n",
              "\n",
              "       Density (P/Km²)  sentiment_val  \n",
              "19512              414              1  \n",
              "17672              139              0  \n",
              "26385              107              0  \n",
              "22147               47              1  \n",
              "9728                 4             -1  "
            ],
            "text/html": [
              "\n",
              "  <div id=\"df-940ebe29-a704-468d-80fc-cb2ed28fc8bc\">\n",
              "    <div class=\"colab-df-container\">\n",
              "      <div>\n",
              "<style scoped>\n",
              "    .dataframe tbody tr th:only-of-type {\n",
              "        vertical-align: middle;\n",
              "    }\n",
              "\n",
              "    .dataframe tbody tr th {\n",
              "        vertical-align: top;\n",
              "    }\n",
              "\n",
              "    .dataframe thead th {\n",
              "        text-align: right;\n",
              "    }\n",
              "</style>\n",
              "<table border=\"1\" class=\"dataframe\">\n",
              "  <thead>\n",
              "    <tr style=\"text-align: right;\">\n",
              "      <th></th>\n",
              "      <th>textID</th>\n",
              "      <th>text</th>\n",
              "      <th>selected_text</th>\n",
              "      <th>sentiment</th>\n",
              "      <th>Time of Tweet</th>\n",
              "      <th>Age of User</th>\n",
              "      <th>Country</th>\n",
              "      <th>Population -2020</th>\n",
              "      <th>Land Area (Km²)</th>\n",
              "      <th>Density (P/Km²)</th>\n",
              "      <th>sentiment_val</th>\n",
              "    </tr>\n",
              "  </thead>\n",
              "  <tbody>\n",
              "    <tr>\n",
              "      <th>19512</th>\n",
              "      <td>4aef4d5752</td>\n",
              "      <td>sweet! make sure to put some in your bag for me</td>\n",
              "      <td>sweet!</td>\n",
              "      <td>positive</td>\n",
              "      <td>morning</td>\n",
              "      <td>0-20</td>\n",
              "      <td>Haiti</td>\n",
              "      <td>11402528</td>\n",
              "      <td>27560.0</td>\n",
              "      <td>414</td>\n",
              "      <td>1</td>\n",
              "    </tr>\n",
              "    <tr>\n",
              "      <th>17672</th>\n",
              "      <td>ca4b7d62c0</td>\n",
              "      <td>anytime!.. literally hahaha</td>\n",
              "      <td>anytime!.. literally hahaha</td>\n",
              "      <td>neutral</td>\n",
              "      <td>night</td>\n",
              "      <td>31-45</td>\n",
              "      <td>Czechia (Czech Republic)</td>\n",
              "      <td>10708981</td>\n",
              "      <td>77240.0</td>\n",
              "      <td>139</td>\n",
              "      <td>0</td>\n",
              "    </tr>\n",
              "    <tr>\n",
              "      <th>26385</th>\n",
              "      <td>9f03acc2ae</td>\n",
              "      <td>history project</td>\n",
              "      <td>history project</td>\n",
              "      <td>neutral</td>\n",
              "      <td>morning</td>\n",
              "      <td>46-60</td>\n",
              "      <td>Hungary</td>\n",
              "      <td>9660351</td>\n",
              "      <td>90530.0</td>\n",
              "      <td>107</td>\n",
              "      <td>0</td>\n",
              "    </tr>\n",
              "    <tr>\n",
              "      <th>22147</th>\n",
              "      <td>53729a85b5</td>\n",
              "      <td>so make the most of it  enjoy</td>\n",
              "      <td>enjoy</td>\n",
              "      <td>positive</td>\n",
              "      <td>noon</td>\n",
              "      <td>21-30</td>\n",
              "      <td>Montenegro</td>\n",
              "      <td>628066</td>\n",
              "      <td>13450.0</td>\n",
              "      <td>47</td>\n",
              "      <td>1</td>\n",
              "    </tr>\n",
              "    <tr>\n",
              "      <th>9728</th>\n",
              "      <td>f0dd6aa1cd</td>\n",
              "      <td>lost luggage? Sorry to hear.  you should chec...</td>\n",
              "      <td>Sorry</td>\n",
              "      <td>negative</td>\n",
              "      <td>night</td>\n",
              "      <td>31-45</td>\n",
              "      <td>Guyana</td>\n",
              "      <td>786552</td>\n",
              "      <td>196850.0</td>\n",
              "      <td>4</td>\n",
              "      <td>-1</td>\n",
              "    </tr>\n",
              "  </tbody>\n",
              "</table>\n",
              "</div>\n",
              "      <button class=\"colab-df-convert\" onclick=\"convertToInteractive('df-940ebe29-a704-468d-80fc-cb2ed28fc8bc')\"\n",
              "              title=\"Convert this dataframe to an interactive table.\"\n",
              "              style=\"display:none;\">\n",
              "        \n",
              "  <svg xmlns=\"http://www.w3.org/2000/svg\" height=\"24px\"viewBox=\"0 0 24 24\"\n",
              "       width=\"24px\">\n",
              "    <path d=\"M0 0h24v24H0V0z\" fill=\"none\"/>\n",
              "    <path d=\"M18.56 5.44l.94 2.06.94-2.06 2.06-.94-2.06-.94-.94-2.06-.94 2.06-2.06.94zm-11 1L8.5 8.5l.94-2.06 2.06-.94-2.06-.94L8.5 2.5l-.94 2.06-2.06.94zm10 10l.94 2.06.94-2.06 2.06-.94-2.06-.94-.94-2.06-.94 2.06-2.06.94z\"/><path d=\"M17.41 7.96l-1.37-1.37c-.4-.4-.92-.59-1.43-.59-.52 0-1.04.2-1.43.59L10.3 9.45l-7.72 7.72c-.78.78-.78 2.05 0 2.83L4 21.41c.39.39.9.59 1.41.59.51 0 1.02-.2 1.41-.59l7.78-7.78 2.81-2.81c.8-.78.8-2.07 0-2.86zM5.41 20L4 18.59l7.72-7.72 1.47 1.35L5.41 20z\"/>\n",
              "  </svg>\n",
              "      </button>\n",
              "      \n",
              "  <style>\n",
              "    .colab-df-container {\n",
              "      display:flex;\n",
              "      flex-wrap:wrap;\n",
              "      gap: 12px;\n",
              "    }\n",
              "\n",
              "    .colab-df-convert {\n",
              "      background-color: #E8F0FE;\n",
              "      border: none;\n",
              "      border-radius: 50%;\n",
              "      cursor: pointer;\n",
              "      display: none;\n",
              "      fill: #1967D2;\n",
              "      height: 32px;\n",
              "      padding: 0 0 0 0;\n",
              "      width: 32px;\n",
              "    }\n",
              "\n",
              "    .colab-df-convert:hover {\n",
              "      background-color: #E2EBFA;\n",
              "      box-shadow: 0px 1px 2px rgba(60, 64, 67, 0.3), 0px 1px 3px 1px rgba(60, 64, 67, 0.15);\n",
              "      fill: #174EA6;\n",
              "    }\n",
              "\n",
              "    [theme=dark] .colab-df-convert {\n",
              "      background-color: #3B4455;\n",
              "      fill: #D2E3FC;\n",
              "    }\n",
              "\n",
              "    [theme=dark] .colab-df-convert:hover {\n",
              "      background-color: #434B5C;\n",
              "      box-shadow: 0px 1px 3px 1px rgba(0, 0, 0, 0.15);\n",
              "      filter: drop-shadow(0px 1px 2px rgba(0, 0, 0, 0.3));\n",
              "      fill: #FFFFFF;\n",
              "    }\n",
              "  </style>\n",
              "\n",
              "      <script>\n",
              "        const buttonEl =\n",
              "          document.querySelector('#df-940ebe29-a704-468d-80fc-cb2ed28fc8bc button.colab-df-convert');\n",
              "        buttonEl.style.display =\n",
              "          google.colab.kernel.accessAllowed ? 'block' : 'none';\n",
              "\n",
              "        async function convertToInteractive(key) {\n",
              "          const element = document.querySelector('#df-940ebe29-a704-468d-80fc-cb2ed28fc8bc');\n",
              "          const dataTable =\n",
              "            await google.colab.kernel.invokeFunction('convertToInteractive',\n",
              "                                                     [key], {});\n",
              "          if (!dataTable) return;\n",
              "\n",
              "          const docLinkHtml = 'Like what you see? Visit the ' +\n",
              "            '<a target=\"_blank\" href=https://colab.research.google.com/notebooks/data_table.ipynb>data table notebook</a>'\n",
              "            + ' to learn more about interactive tables.';\n",
              "          element.innerHTML = '';\n",
              "          dataTable['output_type'] = 'display_data';\n",
              "          await google.colab.output.renderOutput(dataTable, element);\n",
              "          const docLink = document.createElement('div');\n",
              "          docLink.innerHTML = docLinkHtml;\n",
              "          element.appendChild(docLink);\n",
              "        }\n",
              "      </script>\n",
              "    </div>\n",
              "  </div>\n",
              "  "
            ]
          },
          "metadata": {},
          "execution_count": 5
        }
      ]
    },
    {
      "cell_type": "code",
      "source": [
        "train_set.sentiment_val.hist()"
      ],
      "metadata": {
        "colab": {
          "base_uri": "https://localhost:8080/",
          "height": 447
        },
        "id": "s8T_0uq9nMw9",
        "outputId": "b06da568-2a56-4669-90ed-5deb3c4c3aec"
      },
      "execution_count": null,
      "outputs": [
        {
          "output_type": "execute_result",
          "data": {
            "text/plain": [
              "<Axes: >"
            ]
          },
          "metadata": {},
          "execution_count": 6
        },
        {
          "output_type": "display_data",
          "data": {
            "text/plain": [
              "<Figure size 640x480 with 1 Axes>"
            ],
            "image/png": "[encoded data removed]"
          },
          "metadata": {}
        }
      ]
    },
    {
      "cell_type": "code",
      "source": [
        "vectorizer = TfidfVectorizer(max_features = 3500)\n",
        "initial_features = vectorizer.fit_transform(train_set.text.values.astype('U'))"
      ],
      "metadata": {
        "id": "OuOvEqmSTf8l"
      },
      "execution_count": null,
      "outputs": []
    },
    {
      "cell_type": "code",
      "source": [
        "initial_features = initial_features.toarray()"
      ],
      "metadata": {
        "id": "2jwwJWXkhiVF"
      },
      "execution_count": null,
      "outputs": []
    },
    {
      "cell_type": "code",
      "source": [
        "initial_features.shape"
      ],
      "metadata": {
        "colab": {
          "base_uri": "https://localhost:8080/"
        },
        "id": "Q_Be6_Kvhwql",
        "outputId": "d91799c0-91e2-4d0d-c4cb-e8f9e942dd30"
      },
      "execution_count": null,
      "outputs": [
        {
          "output_type": "execute_result",
          "data": {
            "text/plain": [
              "(27481, 3500)"
            ]
          },
          "metadata": {},
          "execution_count": 19
        }
      ]
    },
    {
      "cell_type": "code",
      "source": [
        "x_train, x_test, y_train, y_test = train_test_split(initial_features, train_set.sentiment_val, test_size=0.4)"
      ],
      "metadata": {
        "id": "gBR9YtPWSxhL"
      },
      "execution_count": null,
      "outputs": []
    },
    {
      "cell_type": "code",
      "source": [
        "logr = LogisticRegression()\n",
        "logr.fit(x_train, y_train)"
      ],
      "metadata": {
        "colab": {
          "base_uri": "https://localhost:8080/",
          "height": 230
        },
        "id": "pNU5oMeZhQqU",
        "outputId": "f9e1f700-2753-4eda-cf6e-6dbc156d650a"
      },
      "execution_count": null,
      "outputs": [
        {
          "output_type": "stream",
          "name": "stderr",
          "text": [
            "/usr/local/lib/python3.10/dist-packages/sklearn/linear_model/_logistic.py:458: ConvergenceWarning: lbfgs failed to converge (status=1):\n",
            "STOP: TOTAL NO. of ITERATIONS REACHED LIMIT.\n",
            "\n",
            "Increase the number of iterations (max_iter) or scale the data as shown in:\n",
            "    https://scikit-learn.org/stable/modules/preprocessing.html\n",
            "Please also refer to the documentation for alternative solver options:\n",
            "    https://scikit-learn.org/stable/modules/linear_model.html#logistic-regression\n",
            "  n_iter_i = _check_optimize_result(\n"
          ]
        },
        {
          "output_type": "execute_result",
          "data": {
            "text/plain": [
              "LogisticRegression()"
            ],
            "text/html": [
              "<style>#sk-container-id-2 {color: black;background-color: white;}#sk-container-id-2 pre{padding: 0;}#sk-container-id-2 div.sk-toggleable {background-color: white;}#sk-container-id-2 label.sk-toggleable__label {cursor: pointer;display: block;width: 100%;margin-bottom: 0;padding: 0.3em;box-sizing: border-box;text-align: center;}#sk-container-id-2 label.sk-toggleable__label-arrow:before {content: \"▸\";float: left;margin-right: 0.25em;color: #696969;}#sk-container-id-2 label.sk-toggleable__label-arrow:hover:before {color: black;}#sk-container-id-2 div.sk-estimator:hover label.sk-toggleable__label-arrow:before {color: black;}#sk-container-id-2 div.sk-toggleable__content {max-height: 0;max-width: 0;overflow: hidden;text-align: left;background-color: #f0f8ff;}#sk-container-id-2 div.sk-toggleable__content pre {margin: 0.2em;color: black;border-radius: 0.25em;background-color: #f0f8ff;}#sk-container-id-2 input.sk-toggleable__control:checked~div.sk-toggleable__content {max-height: 200px;max-width: 100%;overflow: auto;}#sk-container-id-2 input.sk-toggleable__control:checked~label.sk-toggleable__label-arrow:before {content: \"▾\";}#sk-container-id-2 div.sk-estimator input.sk-toggleable__control:checked~label.sk-toggleable__label {background-color: #d4ebff;}#sk-container-id-2 div.sk-label input.sk-toggleable__control:checked~label.sk-toggleable__label {background-color: #d4ebff;}#sk-container-id-2 input.sk-hidden--visually {border: 0;clip: rect(1px 1px 1px 1px);clip: rect(1px, 1px, 1px, 1px);height: 1px;margin: -1px;overflow: hidden;padding: 0;position: absolute;width: 1px;}#sk-container-id-2 div.sk-estimator {font-family: monospace;background-color: #f0f8ff;border: 1px dotted black;border-radius: 0.25em;box-sizing: border-box;margin-bottom: 0.5em;}#sk-container-id-2 div.sk-estimator:hover {background-color: #d4ebff;}#sk-container-id-2 div.sk-parallel-item::after {content: \"\";width: 100%;border-bottom: 1px solid gray;flex-grow: 1;}#sk-container-id-2 div.sk-label:hover label.sk-toggleable__label {background-color: #d4ebff;}#sk-container-id-2 div.sk-serial::before {content: \"\";position: absolute;border-left: 1px solid gray;box-sizing: border-box;top: 0;bottom: 0;left: 50%;z-index: 0;}#sk-container-id-2 div.sk-serial {display: flex;flex-direction: column;align-items: center;background-color: white;padding-right: 0.2em;padding-left: 0.2em;position: relative;}#sk-container-id-2 div.sk-item {position: relative;z-index: 1;}#sk-container-id-2 div.sk-parallel {display: flex;align-items: stretch;justify-content: center;background-color: white;position: relative;}#sk-container-id-2 div.sk-item::before, #sk-container-id-2 div.sk-parallel-item::before {content: \"\";position: absolute;border-left: 1px solid gray;box-sizing: border-box;top: 0;bottom: 0;left: 50%;z-index: -1;}#sk-container-id-2 div.sk-parallel-item {display: flex;flex-direction: column;z-index: 1;position: relative;background-color: white;}#sk-container-id-2 div.sk-parallel-item:first-child::after {align-self: flex-end;width: 50%;}#sk-container-id-2 div.sk-parallel-item:last-child::after {align-self: flex-start;width: 50%;}#sk-container-id-2 div.sk-parallel-item:only-child::after {width: 0;}#sk-container-id-2 div.sk-dashed-wrapped {border: 1px dashed gray;margin: 0 0.4em 0.5em 0.4em;box-sizing: border-box;padding-bottom: 0.4em;background-color: white;}#sk-container-id-2 div.sk-label label {font-family: monospace;font-weight: bold;display: inline-block;line-height: 1.2em;}#sk-container-id-2 div.sk-label-container {text-align: center;}#sk-container-id-2 div.sk-container {/* jupyter's `normalize.less` sets `[hidden] { display: none; }` but bootstrap.min.css set `[hidden] { display: none !important; }` so we also need the `!important` here to be able to override the default hidden behavior on the sphinx rendered scikit-learn.org. See: https://github.com/scikit-learn/scikit-learn/issues/21755 */display: inline-block !important;position: relative;}#sk-container-id-2 div.sk-text-repr-fallback {display: none;}</style><div id=\"sk-container-id-2\" class=\"sk-top-container\"><div class=\"sk-text-repr-fallback\"><pre>LogisticRegression()</pre><b>In a Jupyter environment, please rerun this cell to show the HTML representation or trust the notebook. <br />On GitHub, the HTML representation is unable to render, please try loading this page with nbviewer.org.</b></div><div class=\"sk-container\" hidden><div class=\"sk-item\"><div class=\"sk-estimator sk-toggleable\"><input class=\"sk-toggleable__control sk-hidden--visually\" id=\"sk-estimator-id-2\" type=\"checkbox\" checked><label for=\"sk-estimator-id-2\" class=\"sk-toggleable__label sk-toggleable__label-arrow\">LogisticRegression</label><div class=\"sk-toggleable__content\"><pre>LogisticRegression()</pre></div></div></div></div></div>"
            ]
          },
          "metadata": {},
          "execution_count": 17
        }
      ]
    },
    {
      "cell_type": "code",
      "source": [
        "logr.score(x_train, y_train), logr.score(x_test, y_test)"
      ],
      "metadata": {
        "colab": {
          "base_uri": "https://localhost:8080/"
        },
        "id": "H-4FBuMBYniF",
        "outputId": "a586e0e8-a025-4595-b56d-55ed012227e7"
      },
      "execution_count": null,
      "outputs": [
        {
          "output_type": "execute_result",
          "data": {
            "text/plain": [
              "(0.771166909267346, 0.6876193941599199)"
            ]
          },
          "metadata": {},
          "execution_count": 19
        }
      ]
    },
    {
      "cell_type": "code",
      "source": [
        "# roc_auc_score is higher than normal accuracy score only because accuracy\n",
        "# judges the overall performance of the model by checking correct predictions vs\n",
        "# number of predictions made. it can be influenced by the majority class if there\n",
        "# is a class imbalance. on the other hand, roc_auc_score is checking performance\n",
        "# i.e. TP and FP throughout each class, so it provides for a more comprehensive\n",
        "# evalutation method.\n",
        "\n",
        "prob_train = logr.predict_proba(x_train)\n",
        "prob_test = logr.predict_proba(x_test)\n",
        "roc_auc_score(y_train, prob_train, multi_class=\"ovo\"), roc_auc_score(y_test, prob_test, multi_class=\"ovo\")"
      ],
      "metadata": {
        "colab": {
          "base_uri": "https://localhost:8080/"
        },
        "id": "ZciQMPatY3Wz",
        "outputId": "0e2d44cc-f5b5-4c76-aabb-32e770ca4921"
      },
      "execution_count": null,
      "outputs": [
        {
          "output_type": "execute_result",
          "data": {
            "text/plain": [
              "(0.9168879602822132, 0.8538662080925065)"
            ]
          },
          "metadata": {},
          "execution_count": 25
        }
      ]
    },
    {
      "cell_type": "code",
      "source": [
        "final_train = logr.predict(x_train)\n",
        "final_test = logr.predict(x_test)"
      ],
      "metadata": {
        "id": "VDaQvYbVbqcy"
      },
      "execution_count": null,
      "outputs": []
    },
    {
      "cell_type": "code",
      "source": [
        "cm1 = confusion_matrix(y_train, final_train, normalize='true')\n",
        "cm2 = confusion_matrix(y_test, final_test)"
      ],
      "metadata": {
        "id": "wfqquFsmb3xH"
      },
      "execution_count": null,
      "outputs": []
    },
    {
      "cell_type": "code",
      "source": [
        "cm2"
      ],
      "metadata": {
        "colab": {
          "base_uri": "https://localhost:8080/"
        },
        "id": "MtR-H6Fbf-59",
        "outputId": "349fdb64-255a-4020-cebe-f47373335cdf"
      },
      "execution_count": null,
      "outputs": [
        {
          "output_type": "execute_result",
          "data": {
            "text/plain": [
              "array([[1865, 1155,  121],\n",
              "       [ 576, 3306,  492],\n",
              "       [ 145,  945, 2388]])"
            ]
          },
          "metadata": {},
          "execution_count": 32
        }
      ]
    },
    {
      "cell_type": "code",
      "source": [
        "def plot_cm(cm):\n",
        "  classes = ['positive', 'negative', 'neutral']\n",
        "  df1 = pd.DataFrame(cm, index=classes, columns=classes)\n",
        "  ax = sns.heatmap(df1, annot=True)\n",
        "  ax.set_xlabel('predicted')\n",
        "  ax.set_ylabel('target')"
      ],
      "metadata": {
        "id": "klpTMNeceoGP"
      },
      "execution_count": null,
      "outputs": []
    },
    {
      "cell_type": "code",
      "source": [
        "plot_cm(cm1)"
      ],
      "metadata": {
        "colab": {
          "base_uri": "https://localhost:8080/",
          "height": 449
        },
        "id": "VXnGYX_XfuQl",
        "outputId": "bb0fcf55-087a-419d-c705-f37924a5a0ca"
      },
      "execution_count": null,
      "outputs": [
        {
          "output_type": "display_data",
          "data": {
            "text/plain": [
              "<Figure size 640x480 with 2 Axes>"
            ],
            "image/png": "[encoded data removed]"
          },
          "metadata": {}
        }
      ]
    },
    {
      "cell_type": "code",
      "source": [
        "logr.coef_"
      ],
      "metadata": {
        "colab": {
          "base_uri": "https://localhost:8080/"
        },
        "id": "p-ufKq0ygpZt",
        "outputId": "d3d15596-85fe-4554-8a9a-3ad94caa114f"
      },
      "execution_count": null,
      "outputs": [
        {
          "output_type": "execute_result",
          "data": {
            "text/plain": [
              "array([[ 0.06434018, -0.29658116, -0.36731337, ..., -0.12808528,\n",
              "        -0.22370094, -0.42387816],\n",
              "       [ 0.00501383,  0.39290756,  0.38905187, ...,  0.29203822,\n",
              "         0.54322653,  0.62943969],\n",
              "       [-0.069354  , -0.0963264 , -0.0217385 , ..., -0.16395293,\n",
              "        -0.31952559, -0.20556153]])"
            ]
          },
          "metadata": {},
          "execution_count": 37
        }
      ]
    },
    {
      "cell_type": "code",
      "source": [
        "plt.hist(logr.coef_[0], bins=40)"
      ],
      "metadata": {
        "colab": {
          "base_uri": "https://localhost:8080/",
          "height": 668
        },
        "id": "OG8Vt4bOhdB7",
        "outputId": "640318c8-d927-4fbb-adfe-6d26b6075fb4"
      },
      "execution_count": null,
      "outputs": [
        {
          "output_type": "execute_result",
          "data": {
            "text/plain": [
              "(array([  1.,   0.,   0.,   0.,   1.,   1.,   3.,   1.,   6.,   3.,   5.,\n",
              "          5.,   7.,  23.,  44., 153., 460., 772., 812., 531., 316., 152.,\n",
              "         81.,  35.,  27.,  17.,   8.,   9.,   8.,   2.,   6.,   2.,   4.,\n",
              "          1.,   1.,   0.,   0.,   0.,   1.,   2.]),\n",
              " array([-4.15029972, -3.92367992, -3.69706012, -3.47044032, -3.24382052,\n",
              "        -3.01720073, -2.79058093, -2.56396113, -2.33734133, -2.11072153,\n",
              "        -1.88410173, -1.65748193, -1.43086213, -1.20424234, -0.97762254,\n",
              "        -0.75100274, -0.52438294, -0.29776314, -0.07114334,  0.15547646,\n",
              "         0.38209626,  0.60871605,  0.83533585,  1.06195565,  1.28857545,\n",
              "         1.51519525,  1.74181505,  1.96843485,  2.19505465,  2.42167444,\n",
              "         2.64829424,  2.87491404,  3.10153384,  3.32815364,  3.55477344,\n",
              "         3.78139324,  4.00801303,  4.23463283,  4.46125263,  4.68787243,\n",
              "         4.91449223]),\n",
              " <BarContainer object of 40 artists>)"
            ]
          },
          "metadata": {},
          "execution_count": 40
        },
        {
          "output_type": "display_data",
          "data": {
            "text/plain": [
              "<Figure size 640x480 with 1 Axes>"
            ],
            "image/png": "[encoded data removed]"
          },
          "metadata": {}
        }
      ]
    },
    {
      "cell_type": "code",
      "source": [
        "# code for binary classification instead of mutliclass classification\n",
        "# binary_target_list = [target_map['positive'], target_map['negative']]\n",
        "# df_b_train = df_train[df_train['target'].isin(binary_target_list)]\n",
        "# df_b_test = df_test[df_test['target'].isin(binary_target_list)]\n",
        "# In [ ]:\n",
        "# df_b_train.head()\n",
        "# X_train = vectorizer.fit_transform(df_b_train['text'])\n",
        "# X_test = vectorizer.transform(df_b_test['text'])\n",
        "# In [ ]:\n",
        "# Y_train = df_b_train['target']\n",
        "# Y_test = df_b_test['target']\n",
        "# In [ ]:\n",
        "# model = LogisticRegression(max_iter=500)\n",
        "# model.fit(X_train, Y_train)\n",
        "# print(\"Train acc:\", model.score(X_train, Y_train))\n",
        "# print(\"Test acc:\", model.score(X_test, Y_test))"
      ],
      "metadata": {
        "id": "xbyEvAxj46xg"
      },
      "execution_count": null,
      "outputs": []
    },
    {
      "cell_type": "code",
      "source": [
        "word_map = vectorizer.vocabulary_\n",
        "len(word_map)"
      ],
      "metadata": {
        "colab": {
          "base_uri": "https://localhost:8080/"
        },
        "id": "Pasjiy4rzBLK",
        "outputId": "65c87180-c087-4c70-896d-1414407e18b5"
      },
      "execution_count": null,
      "outputs": [
        {
          "output_type": "execute_result",
          "data": {
            "text/plain": [
              "3500"
            ]
          },
          "metadata": {},
          "execution_count": 42
        }
      ]
    },
    {
      "cell_type": "code",
      "source": [
        "# since distribution is positive, neutral, negative. negative words have positive\n",
        "# coefficients and positive meaning words have negative coefficients.\n",
        "\n",
        "threshold = 3\n",
        "\n",
        "for word, index in word_map.items():\n",
        "  weight = logr.coef_[0][index]\n",
        "  if weight> threshold:\n",
        "    print(word, weight)"
      ],
      "metadata": {
        "colab": {
          "base_uri": "https://localhost:8080/"
        },
        "id": "7TWuulmWzMb4",
        "outputId": "e209e7fe-a178-44f1-bd74-80b0a8f0c0c5"
      },
      "execution_count": null,
      "outputs": [
        {
          "output_type": "stream",
          "name": "stdout",
          "text": [
            "sad 4.914492229685143\n",
            "miss 4.587773945804462\n",
            "sick 3.2862498865485126\n",
            "sorry 4.860298020578673\n",
            "hate 3.6388585291538242\n",
            "bored 3.13987973154644\n",
            "tired 3.2144065625485174\n",
            "sucks 3.439106999265545\n",
            "stupid 3.0418214591880095\n",
            "fail 3.1635490732466276\n"
          ]
        }
      ]
    },
    {
      "cell_type": "code",
      "source": [
        "threshold = -2\n",
        "\n",
        "for word, index in word_map.items():\n",
        "  weight = logr.coef_[0][index]\n",
        "  if weight< threshold:\n",
        "    print(word, weight)"
      ],
      "metadata": {
        "colab": {
          "base_uri": "https://localhost:8080/"
        },
        "id": "d29osgan0qXD",
        "outputId": "45ab01a9-fa8d-4b90-b18b-5e6a7626d91d"
      },
      "execution_count": null,
      "outputs": [
        {
          "output_type": "stream",
          "name": "stdout",
          "text": [
            "love -4.150299719042778\n",
            "hope -2.6926269560539113\n",
            "happy -2.2573570946906494\n",
            "better -2.2856643040280753\n",
            "nice -2.333158952049026\n",
            "awesome -2.9378623451645494\n",
            "good -2.2014099905034445\n",
            "thank -2.1783622417160093\n",
            "thanks -3.093604257497206\n",
            "great -2.6563925617639\n",
            "excited -2.0239917661504045\n",
            "hopefully -2.5633665557220886\n",
            "amazing -2.255940667013925\n",
            "glad -2.6367277762843315\n"
          ]
        }
      ]
    }
  ]
}