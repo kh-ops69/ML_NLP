{
  "nbformat": 4,
  "nbformat_minor": 0,
  "metadata": {
    "colab": {
      "provenance": [],
      "authorship_tag": "ABX9TyML02ttyCwSF+td4XoUzjAO",
      "include_colab_link": true
    },
    "kernelspec": {
      "name": "python3",
      "display_name": "Python 3"
    },
    "language_info": {
      "name": "python"
    }
  },
  "cells": [
    {
      "cell_type": "markdown",
      "metadata": {
        "id": "view-in-github",
        "colab_type": "text"
      },
      "source": [
        "<a href=\"https://colab.research.google.com/github/kh-ops69/ML_NLP/blob/master/basic_cipher_decrypt.ipynb\" target=\"_parent\"><img src=\"https://colab.research.google.com/assets/colab-badge.svg\" alt=\"Open In Colab\"/></a>"
      ]
    },
    {
      "cell_type": "code",
      "source": [
        "import re\n",
        "import matplotlib.pyplot as plt\n",
        "import numpy as np\n",
        "import os\n",
        "import requests, textwrap\n",
        "import string\n",
        "import random"
      ],
      "metadata": {
        "id": "32sEBt6YcxUT"
      },
      "execution_count": null,
      "outputs": []
    },
    {
      "cell_type": "code",
      "execution_count": null,
      "metadata": {
        "colab": {
          "base_uri": "https://localhost:8080/"
        },
        "id": "cHgZUvbB2Hjy",
        "outputId": "dacdc6af-915c-4000-b85e-4e5824bbdb78"
      },
      "outputs": [
        {
          "output_type": "stream",
          "name": "stdout",
          "text": [
            "--2023-06-04 04:20:51--  http://nc/\n",
            "Resolving nc (nc)... failed: No address associated with hostname.\n",
            "wget: unable to resolve host address ‘nc’\n",
            "--2023-06-04 04:20:51--  https://lazyprogrammer.me/course_files/moby_dick.txt\n",
            "Resolving lazyprogrammer.me (lazyprogrammer.me)... 172.67.213.166, 104.21.23.210, 2606:4700:3030::ac43:d5a6, ...\n",
            "Connecting to lazyprogrammer.me (lazyprogrammer.me)|172.67.213.166|:443... connected.\n",
            "HTTP request sent, awaiting response... 200 OK\n",
            "Length: unspecified [text/plain]\n",
            "Saving to: ‘moby_dick.txt’\n",
            "\n",
            "moby_dick.txt           [   <=>              ]   1.17M  2.24MB/s    in 0.5s    \n",
            "\n",
            "2023-06-04 04:20:52 (2.24 MB/s) - ‘moby_dick.txt’ saved [1227649]\n",
            "\n",
            "FINISHED --2023-06-04 04:20:52--\n",
            "Total wall clock time: 0.8s\n",
            "Downloaded: 1 files, 1.2M in 0.5s (2.24 MB/s)\n"
          ]
        }
      ],
      "source": [
        "!wget nc https://lazyprogrammer.me/course_files/moby_dick.txt"
      ]
    },
    {
      "cell_type": "code",
      "source": [
        "#@title Default title text\n",
        "with open('moby_dick.txt', 'r') as file:\n",
        "  lines_lst = file.readlines()\n",
        "\n",
        "new_lst = []\n",
        "for line in lines_lst:\n",
        "  line = re.sub(',|\\n|-|;', '', line)\n",
        "  if line:\n",
        "    new_lst.append(line)\n",
        "\n",
        "new_lst"
      ],
      "metadata": {
        "id": "ExAuYg7WbEH9",
        "cellView": "form"
      },
      "execution_count": null,
      "outputs": []
    },
    {
      "cell_type": "code",
      "source": [
        "#@title Default title text\n",
        "char_lst = [j for i in new_lst for j in i]\n",
        "set(char_lst)\n",
        "letters = [i for i in set(char_lst) if i.isalpha() == True and i.islower()==True]\n",
        "a = sorted(letters)\n",
        "print(a)"
      ],
      "metadata": {
        "id": "2lUL-hiwcpwk",
        "cellView": "form"
      },
      "execution_count": null,
      "outputs": []
    },
    {
      "cell_type": "code",
      "source": [
        "#@title Default title text\n",
        "chars1 = list(string.ascii_lowercase)\n",
        "ref_chars = list(string.ascii_lowercase)\n",
        "\n",
        "random.shuffle(ref_chars)          # random is unlike other str function related modules in that where storing result in another variable makes it none type argument\n",
        "true_map = {}\n",
        "\n",
        "for key,value in zip(chars1, ref_chars):\n",
        "  true_map[key] = value"
      ],
      "metadata": {
        "id": "Pl9BlOfruHZC",
        "cellView": "form"
      },
      "execution_count": null,
      "outputs": []
    },
    {
      "cell_type": "code",
      "source": [
        "#@title Default title text\n",
        "# making a simple language model- we first initialise two matrices- one for getting logs of letters in a word in\n",
        "# a sentence, and the other for storing the initial letters' logs- since they don't have a previous letter to rely upon.\n",
        "# we have just used counts of the letters(both 2 in sequence and starting letter as well), \n",
        "# and taken their logs beforehand so that we can avoid further issues with small probabilities, or \n",
        "# words and letter combinations that are least likely to occur can be eliminated in an easier way.\n",
        "\n",
        "\n",
        "#markov matrix\n",
        "letters_matrix = np.ones((26,26))\n",
        "\n",
        "#initial state distributions- otherwise known as pi matrices\n",
        "pi = np.zeros(26)\n",
        "\n",
        "def update_markov(letter1, letter2):\n",
        "  i = ord(letter1) - 97\n",
        "  j = ord(letter2) - 97\n",
        "\n",
        "  letters_matrix[i,j] += 1\n",
        "\n",
        "def update_pis(initial_letter):\n",
        "  index = ord(initial_letter) - 97\n",
        "  pi[index] += 1\n",
        "\n",
        "def get_probability_matrices(word):\n",
        "  initial_index = ord(word[0]) - 97\n",
        "  logp = np.log(pi[initial_index])\n",
        "\n",
        "  for i in word[1:]:\n",
        "    next_index = ord(i)-97\n",
        "    logp += np.log(letters_matrix[initial_index, next_index])\n",
        "    initial_index = next_index\n",
        "  return logp\n",
        "\n",
        "def sentence_indiv_probs(sentence):\n",
        "  if type(sentence) == str:\n",
        "    sentence = sentence.split()\n",
        "  \n",
        "  logp=0\n",
        "  for word in sentence:\n",
        "    logp += get_probability_matrices(word)\n",
        "  return logp"
      ],
      "metadata": {
        "id": "HMmmhzkvvGpa",
        "cellView": "form"
      },
      "execution_count": null,
      "outputs": []
    },
    {
      "cell_type": "code",
      "source": [
        "#@title Default title text\n",
        "r = requests.get('https://lazyprogrammer.me/course_files/moby_dick.txt')\n",
        "with open('moby_dick.txt', 'w') as file:\n",
        "  file.write(r.content.decode())"
      ],
      "metadata": {
        "id": "j1yfkJuR0oXo",
        "cellView": "form"
      },
      "execution_count": null,
      "outputs": []
    },
    {
      "cell_type": "code",
      "source": [
        "#@title Default title text\n",
        "# re.compile(arg), here order of arg is important, it compiles a list of letters a-z lower and uppercase\n",
        "# then strip lines of white space and substitute any character not from the regex list with space\n",
        "# update the pi and letters_matrix matrices, then find actual probabilities with sum() function\n",
        "\n",
        "\n",
        "regex = re.compile('[^a-zA-Z]')\n",
        "\n",
        "for line in open('moby_dick.txt'):\n",
        "  line = line.rstrip()\n",
        "\n",
        "  if line:\n",
        "    line = regex.sub(' ', line)\n",
        "\n",
        "    tokens = line.lower().split()\n",
        "    for token in tokens:\n",
        "      ch0 = token[0]\n",
        "      update_pis(ch0)\n",
        "\n",
        "      for ch_next in token[1:]:\n",
        "        update_markov(ch0, ch_next)\n",
        "        ch0 = ch_next\n",
        "\n",
        "pi /= pi.sum()\n",
        "letters_matrix /= letters_matrix.sum(axis=1, keepdims=True)"
      ],
      "metadata": {
        "id": "6k9ooaoT1Qh6",
        "cellView": "form"
      },
      "execution_count": null,
      "outputs": []
    },
    {
      "cell_type": "code",
      "source": [
        "#@title Default title text\n",
        "### encode a message\n",
        "\n",
        "# this is a random excerpt from Project Gutenberg's\n",
        "# The Adventures of Sherlock Holmes, by Arthur Conan Doyle\n",
        "# https://www.gutenberg.org/ebooks/1661\n",
        "\n",
        "original_message = '''Away they went, and I was just wondering whether I should not do well\n",
        "to follow them when up the lane came a neat little landau, the coachman\n",
        "with his coat only half-buttoned, and his tie under his ear, while all\n",
        "the tags of his harness were sticking out of the buckles. It hadn't\n",
        "pulled up before she shot out of the hall door and into it. I only\n",
        "caught a glimpse of her at the moment, but she was a lovely woman, with\n",
        "a face that a man might die for.\n",
        "'''\n",
        "\n",
        "# My cabby drove fast. I don't think I ever drove faster, but the others\n",
        "# were there before us. The cab and the landau with their steaming horses\n",
        "# were in front of the door when I arrived. I paid the man and hurried\n",
        "# into the church. There was not a soul there save the two whom I had\n",
        "# followed and a surpliced clergyman, who seemed to be expostulating with\n",
        "# them. They were all three standing in a knot in front of the altar. I\n",
        "# lounged up the side aisle like any other idler who has dropped into a\n",
        "# church. Suddenly, to my surprise, the three at the altar faced round to\n",
        "# me, and Godfrey Norton came running as hard as he could towards me."
      ],
      "metadata": {
        "id": "7nolE6u160kC",
        "cellView": "form"
      },
      "execution_count": null,
      "outputs": []
    },
    {
      "cell_type": "code",
      "source": [
        "original_message.split()"
      ],
      "metadata": {
        "id": "mB4fE7if9caE"
      },
      "execution_count": null,
      "outputs": []
    },
    {
      "cell_type": "code",
      "source": [
        "#@title Default title text\n",
        "def encode_message(message):\n",
        "  message = message.lower()\n",
        "\n",
        "  message = regex.sub(' ', message)\n",
        "\n",
        "  encrypted_message = []\n",
        "  for letter in message:\n",
        "    encrypted_ch = letter\n",
        "    if letter in true_map:\n",
        "      encrypted_ch = true_map[letter]\n",
        "    encrypted_message.append(encrypted_ch)\n",
        "  \n",
        "  return ''.join(encrypted_message)\n",
        "\n",
        "encoded = encode_message(original_message)\n",
        "\n",
        "def decode_message(message, word_map):\n",
        "  message = message.lower()\n",
        "  decoded_message = []\n",
        "  for ch in message:\n",
        "    decoded_ch = ch\n",
        "    if ch in word_map:\n",
        "      decoded_ch = word_map[ch]\n",
        "    decoded_message.append(decoded_ch)\n",
        "  \n",
        "  return ''.join(decoded_message)"
      ],
      "metadata": {
        "id": "DSmmBd-KhU6r",
        "cellView": "form"
      },
      "execution_count": null,
      "outputs": []
    },
    {
      "cell_type": "code",
      "source": [
        "#@title Default title text\n",
        "# making different ciphers by simply performing a random shuffle n=20 times,\n",
        "# these ciphers(in the form of lists) will be appended to larger dna_collection \n",
        "\n",
        "dna_collection = []\n",
        "for i in range(20):\n",
        "  dna = list(string.ascii_lowercase)\n",
        "  random.shuffle(dna)\n",
        "  dna_collection.append(dna)"
      ],
      "metadata": {
        "id": "ELZVsib5jeWF",
        "cellView": "form"
      },
      "execution_count": null,
      "outputs": []
    },
    {
      "cell_type": "code",
      "source": [
        "#@title Default title text\n",
        "# making swaps in original dna list from the dna_pool mega list\n",
        "\n",
        "def make_children(dna_pool, n_iterations):\n",
        "  children = []\n",
        "  for dna in dna_pool:\n",
        "    for _ in range(n_iterations):\n",
        "\n",
        "      copy = dna.copy()\n",
        "      i = np.random.randint(len(copy))\n",
        "      j = np.random.randint(len(copy))\n",
        "      \n",
        "      temp = dna[i]\n",
        "      dna[i] = dna[j]\n",
        "      dna[j] = temp\n",
        "      children.append(copy)\n",
        "  return children+dna_pool"
      ],
      "metadata": {
        "id": "mWE-SKjwjtNF",
        "cellView": "form"
      },
      "execution_count": null,
      "outputs": []
    },
    {
      "cell_type": "code",
      "source": [
        "#@title Default title text\n",
        "for dna in dna_collection:\n",
        "  print(type(dna))"
      ],
      "metadata": {
        "id": "hpv1FsmfyIkZ",
        "cellView": "form"
      },
      "execution_count": null,
      "outputs": []
    },
    {
      "cell_type": "code",
      "source": [
        "#@title Default title text\n",
        "iterations = 30\n",
        "scores = np.zeros(iterations)       # initialising a 0 matrix for score of each dna in the dna_pool\n",
        "best_score = float('-inf')\n",
        "best_dna = None\n",
        "best_cipher = None\n",
        "\n",
        "for i in range(iterations):\n",
        "  if i>0:                               # simple assumption that first iteration in our dna loop\n",
        "                                        #  is assumed to be already diverse enough, if that is not accurate then we iterate upon the next dna present inside the dna_pool\n",
        "    dna_collection = make_children(dna_collection, 3)\n",
        "\n",
        "  dna_scores = {}\n",
        "  for dna in dna_collection:\n",
        "    current_map = {}\n",
        "    for key,value in zip(chars1, dna):\n",
        "      current_map[key] = value\n",
        "    \n",
        "    decoded_message = decode_message(encoded, current_map)\n",
        "    score = sentence_indiv_probs(decoded_message)\n",
        "\n",
        "    dna_scores[' '.join(dna)] = score\n",
        "\n",
        "    if score>best_score:\n",
        "      best_score = score\n",
        "      best_dna = dna               # current dna from the for loop is best dna, the mapping related to this dna is best cipher, and its score will be best\n",
        "      best_cipher = current_map\n",
        "\n",
        "  scores[i] = np.mean(list(dna_scores.values()))\n",
        "  sorted_scores = sorted(dna_scores.items(), key=lambda x:x[1], reverse=True)\n",
        "  dna_pool = [list(k) for k,v in sorted_scores[:5]]       # selects the best 5 performing dna's for the next iteration \n",
        "  \n",
        "  if i%3 == 0:\n",
        "    print(\"iter:\", i, \"score:\", scores[i], \"best so far:\", best_score)"
      ],
      "metadata": {
        "id": "lUtZwFjml8hW",
        "cellView": "form"
      },
      "execution_count": null,
      "outputs": []
    },
    {
      "cell_type": "code",
      "source": [
        "letters1 = list(string.ascii_lowercase)\n",
        "letters2 = list(string.ascii_lowercase)\n",
        "\n",
        "true_mapping = {}\n",
        "\n",
        "# shuffle second set of letters\n",
        "random.shuffle(letters2)\n",
        "\n",
        "# populate map\n",
        "for k, v in zip(letters1, letters2):\n",
        "  true_mapping[k] = v\n",
        "\n",
        "### the language model\n",
        "\n",
        "# initialize Markov matrix\n",
        "M = np.ones((26, 26))\n",
        "\n",
        "# initial state distribution\n",
        "pi = np.zeros(26)\n",
        "\n",
        "# a function to update the Markov matrix\n",
        "def update_transition(ch1, ch2):\n",
        "  # ord('a') = 97, ord('b') = 98, ...\n",
        "  i = ord(ch1) - 97\n",
        "  j = ord(ch2) - 97\n",
        "  M[i,j] += 1\n",
        "\n",
        "# a function to update the initial state distribution\n",
        "def update_pi(ch):\n",
        "  i = ord(ch) - 97\n",
        "  pi[i] += 1\n",
        "\n",
        "# get the log-probability of a word / token\n",
        "def get_word_prob(word):\n",
        "  # print(\"word:\", word)\n",
        "  i = ord(word[0]) - 97\n",
        "  logp = np.log(pi[i])\n",
        "\n",
        "  for ch in word[1:]:\n",
        "    j = ord(ch) - 97\n",
        "    logp += np.log(M[i, j]) # update prob\n",
        "    i = j # update j\n",
        "\n",
        "  return logp\n",
        "\n",
        "# get the probability of a sequence of words\n",
        "def get_sequence_prob(words):\n",
        "  # if input is a string, split into an array of tokens\n",
        "  if type(words) == str:\n",
        "    words = words.split()\n",
        "\n",
        "  logp = 0\n",
        "  for word in words:\n",
        "    logp += get_word_prob(word)\n",
        "  return logp\n",
        "\n",
        "### create a markov model based on an English dataset\n",
        "# is an edit of https://www.gutenberg.org/ebooks/2701\n",
        "# (I removed the front and back matter)\n",
        "\n",
        "# download the file\n",
        "if not os.path.exists('moby_dick.txt'):\n",
        "  print(\"Downloading moby dick...\")\n",
        "  r = requests.get('https://lazyprogrammer.me/course_files/moby_dick.txt')\n",
        "  with open('moby_dick.txt', 'w') as f:\n",
        "    f.write(r.content.decode())\n",
        "\n",
        "# for replacing non-alpha characters\n",
        "regex = re.compile('[^a-zA-Z]')\n",
        "\n",
        "# load in words\n",
        "for line in open('moby_dick.txt'):\n",
        "  line = line.rstrip()\n",
        "\n",
        "  # there are blank lines in the file\n",
        "  if line:\n",
        "    line = regex.sub(' ', line) # replace all non-alpha characters with space\n",
        "\n",
        "    # split the tokens in the line and lowercase\n",
        "    tokens = line.lower().split()\n",
        "\n",
        "    for token in tokens:\n",
        "      # update the model\n",
        "\n",
        "      # first letter\n",
        "      ch0 = token[0]\n",
        "      update_pi(ch0)\n",
        "\n",
        "      # other letters\n",
        "      for ch1 in token[1:]:\n",
        "        update_transition(ch0, ch1)\n",
        "        ch0 = ch1\n",
        "\n",
        "# normalize the probabilities\n",
        "pi /= pi.sum()\n",
        "M /= M.sum(axis=1, keepdims=True)\n",
        "\n",
        "### encode a message\n",
        "\n",
        "# this is a random excerpt from Project Gutenberg's\n",
        "# The Adventures of Sherlock Holmes, by Arthur Conan Doyle\n",
        "# https://www.gutenberg.org/ebooks/1661\n",
        "\n",
        "# original_message = '''I then lounged down the street and found,\n",
        "# as I expected, that there was a mews in a lane which runs down\n",
        "# by one wall of the garden. I lent the ostlers a hand in rubbing\n",
        "# down their horses, and received in exchange twopence, a glass of\n",
        "# half-and-half, two fills of shag tobacco, and as much information\n",
        "# as I could desire about Miss Adler, to say nothing of half a dozen\n",
        "# other people in the neighbourhood in whom I was not in the least\n",
        "# interested, but whose biographies I was compelled to listen to.\n",
        "# '''\n",
        "\n",
        "# original_message = '''Away they went, and I was just wondering whether I should not do well\n",
        "# to follow them when up the lane came a neat little landau, the coachman\n",
        "# with his coat only half-buttoned, and his tie under his ear, while all\n",
        "# the tags of his harness were sticking out of the buckles. It hadn't\n",
        "# pulled up before she shot out of the hall door and into it. I only\n",
        "# caught a glimpse of her at the moment, but she was a lovely woman, with\n",
        "# a face that a man might die for.'''\n",
        "\n",
        "original_message = '''My cabby drove fast. I don't think I ever drove faster, but the others\n",
        "were there before us. The cab and the landau with their steaming horses\n",
        "were in front of the door when I arrived. I paid the man and hurried\n",
        "into the church. There was not a soul there save the two whom I had\n",
        "followed and a surpliced clergyman, who seemed to be expostulating with\n",
        "them. They were all three standing in a knot in front of the altar. I\n",
        "lounged up the side aisle like any other idler who has dropped into a\n",
        "church. Suddenly, to my surprise, the three at the altar faced round to\n",
        "me, and Godfrey Norton came running as hard as he could towards me.'''\n",
        "\n",
        "# a function to encode a message\n",
        "def encode_message(msg):\n",
        "  # downcase\n",
        "  msg = msg.lower()\n",
        "\n",
        "  # replace non-alpha characters\n",
        "  msg = regex.sub(' ', msg)\n",
        "\n",
        "  # make the encoded message\n",
        "  coded_msg = []\n",
        "  for ch in msg:\n",
        "    coded_ch = ch # could just be a space\n",
        "    if ch in true_mapping:\n",
        "      coded_ch = true_mapping[ch]\n",
        "    coded_msg.append(coded_ch)\n",
        "\n",
        "  return ''.join(coded_msg)\n",
        "\n",
        "\n",
        "encoded_message = encode_message(original_message)\n",
        "\n",
        "\n",
        "# a function to decode a message\n",
        "def decode_message(msg, word_map):\n",
        "  decoded_msg = []\n",
        "  for ch in msg:\n",
        "    decoded_ch = ch # could just be a space\n",
        "    if ch in word_map:\n",
        "      decoded_ch = word_map[ch]\n",
        "    decoded_msg.append(decoded_ch)\n",
        "\n",
        "  return ''.join(decoded_msg)\n",
        "\n",
        "### run an evolutionary algorithm to decode the message\n",
        "\n",
        "# this is our initialization point\n",
        "dna_pool = []\n",
        "for _ in range(20):\n",
        "  dna = list(string.ascii_lowercase)\n",
        "  random.shuffle(dna)\n",
        "  dna_pool.append(dna)\n",
        "\n",
        "def evolve_offspring(dna_pool, n_children):\n",
        "  # make n_children per offspring\n",
        "  offspring = []\n",
        "\n",
        "  for dna in dna_pool:\n",
        "    for _ in range(n_children):\n",
        "      copy = dna.copy()\n",
        "      j = np.random.randint(len(copy))\n",
        "      k = np.random.randint(len(copy))\n",
        "\n",
        "      # switch\n",
        "      tmp = copy[j]\n",
        "      copy[j] = copy[k]\n",
        "      copy[k] = tmp\n",
        "      offspring.append(copy)\n",
        "\n",
        "  return offspring + dna_pool\n",
        "\n",
        "num_iters = 1000\n",
        "scores = np.zeros(num_iters)\n",
        "best_dna = None\n",
        "best_map = None\n",
        "best_score = float('-inf')\n",
        "for i in range(num_iters):\n",
        "  if i > 0:\n",
        "    # get offspring from the current dna pool\n",
        "    dna_pool = evolve_offspring(dna_pool, 3)\n",
        "\n",
        "  # calculate score for each dna\n",
        "  dna2score = {}\n",
        "  for dna in dna_pool:\n",
        "    # populate map\n",
        "    current_map = {}\n",
        "    for k, v in zip(letters1, dna):\n",
        "      current_map[k] = v\n",
        "\n",
        "    decoded_message = decode_message(encoded_message, current_map)\n",
        "    score = get_sequence_prob(decoded_message)\n",
        "\n",
        "    # store it\n",
        "    # needs to be a string to be a dict key\n",
        "    dna2score[''.join(dna)] = score\n",
        "\n",
        "    # record the best so far\n",
        "    if score > best_score:\n",
        "      best_dna = dna\n",
        "      best_map = current_map\n",
        "      best_score = score\n",
        "\n",
        "  # average score for this generation\n",
        "  scores[i] = np.mean(list(dna2score.values()))\n",
        "\n",
        "  # keep the best 5 dna\n",
        "  # also turn them back into list of single chars\n",
        "  sorted_dna = sorted(dna2score.items(), key=lambda x: x[1], reverse=True)\n",
        "  dna_pool = [list(k) for k, v in sorted_dna[:5]]\n",
        "\n",
        "  if i % 200 == 0:\n",
        "    print(\"iter:\", i, \"score:\", scores[i], \"best so far:\", best_score)"
      ],
      "metadata": {
        "colab": {
          "base_uri": "https://localhost:8080/"
        },
        "id": "LpOF9ZyH2Cmw",
        "outputId": "5c143ff7-8a48-45dc-b520-daea941ef3b6"
      },
      "execution_count": null,
      "outputs": [
        {
          "output_type": "stream",
          "name": "stdout",
          "text": [
            "iter: 0 score: -2602.2068465720376 best so far: -2274.2969087772804\n",
            "iter: 200 score: -1410.1644399319462 best so far: -1256.9620866382402\n",
            "iter: 400 score: -1225.7660352796938 best so far: -1127.1983612828706\n",
            "iter: 600 score: -1271.7687190791414 best so far: -1127.1983612828706\n",
            "iter: 800 score: -1275.727730377133 best so far: -1127.1983612828706\n"
          ]
        }
      ]
    },
    {
      "cell_type": "code",
      "source": [
        "# print the final decoded message\n",
        "print(\"Decoded message:\\n\", textwrap.fill(decoded_message))\n",
        "\n",
        "print(\"\\nTrue message:\\n\", original_message)"
      ],
      "metadata": {
        "colab": {
          "base_uri": "https://localhost:8080/"
        },
        "id": "D3_8e1EOFuPa",
        "outputId": "4380bbff-4b69-4877-8e02-ac75448016cd"
      },
      "execution_count": null,
      "outputs": [
        {
          "output_type": "stream",
          "name": "stdout",
          "text": [
            "Decoded message:\n",
            " my cabby drove fast  i don t think i ever drove faster  but the others\n",
            "were there before us  the cab and the landau with their steaming\n",
            "horses were in front of the door when i arrived  i paid the man and\n",
            "hurried into the church  there was not a soul there save the two whom\n",
            "i had followed and a surpliced clergyman  who seemed to be\n",
            "expostulating with them  they were all three standing in a knot in\n",
            "front of the altar  i lounged up the side aisle like any other idler\n",
            "who has dropped into a church  suddenly  to my surprise  the three at\n",
            "the altar faced round to me  and godfrey norton came running as hard\n",
            "as he could towards me\n",
            "\n",
            "True message:\n",
            " My cabby drove fast. I don't think I ever drove faster, but the others\n",
            "were there before us. The cab and the landau with their steaming horses\n",
            "were in front of the door when I arrived. I paid the man and hurried\n",
            "into the church. There was not a soul there save the two whom I had\n",
            "followed and a surpliced clergyman, who seemed to be expostulating with\n",
            "them. They were all three standing in a knot in front of the altar. I\n",
            "lounged up the side aisle like any other idler who has dropped into a\n",
            "church. Suddenly, to my surprise, the three at the altar faced round to\n",
            "me, and Godfrey Norton came running as hard as he could towards me.\n"
          ]
        }
      ]
    },
    {
      "cell_type": "code",
      "source": [
        "plt.plot(scores)\n",
        "plt.show()"
      ],
      "metadata": {
        "colab": {
          "base_uri": "https://localhost:8080/",
          "height": 430
        },
        "id": "ElxMx2F7IQPt",
        "outputId": "c6c9697a-8037-4a0b-d8a3-eae31a97daab"
      },
      "execution_count": null,
      "outputs": [
        {
          "output_type": "display_data",
          "data": {
            "text/plain": [
              "<Figure size 640x480 with 1 Axes>"
            ],
            "image/png": "[encoded data removed]"
          },
          "metadata": {}
        }
      ]
    }
  ]
}